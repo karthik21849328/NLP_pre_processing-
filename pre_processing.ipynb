{
 "cells": [
  {
   "cell_type": "markdown",
   "id": "8b6d7451-8723-47f1-8cc5-330efb80babb",
   "metadata": {},
   "source": [
    "REMOVAL OF HTML TAG USING BEAUTIFUL SOUP(THIS HELPS IN REMOVING HTML TAGS FROM THE WEB PAGE)"
   ]
  },
  {
   "cell_type": "code",
   "execution_count": 2,
   "id": "2b05a293-3116-4295-a0e5-bfcc0477e0cd",
   "metadata": {},
   "outputs": [],
   "source": [
    "from bs4 import BeautifulSoup"
   ]
  },
  {
   "cell_type": "code",
   "execution_count": 5,
   "id": "29c4e76b-b91d-4124-aedb-3b0d2c35c399",
   "metadata": {},
   "outputs": [],
   "source": [
    "def html_tag_remover(text):\n",
    "    soup=BeautifulSoup(text,'html.parser') #instantiating the beautiful so\n",
    "    filtered_text=soup.get_text()\n",
    "    return filtered_text"
   ]
  },
  {
   "cell_type": "code",
   "execution_count": 6,
   "id": "9f5bddde-77db-4940-b6c2-045ea52cddf5",
   "metadata": {},
   "outputs": [
    {
     "data": {
      "text/plain": [
       "'hello world '"
      ]
     },
     "execution_count": 6,
     "metadata": {},
     "output_type": "execute_result"
    }
   ],
   "source": [
    "html_tag_remover('<html>hello world </htmml>')"
   ]
  },
  {
   "cell_type": "markdown",
   "id": "e915b564-c0de-41ab-8833-dd398ca9b457",
   "metadata": {},
   "source": [
    "REMOVING ACCENTED CHARACTER OR A WORD FROM THE GIVEN CORPUS"
   ]
  },
  {
   "cell_type": "code",
   "execution_count": 11,
   "id": "95e9c228-a749-415c-8908-bbc5b8504ad2",
   "metadata": {},
   "outputs": [
    {
     "data": {
      "text/plain": [
       "'Cortege Naive Entrepot'"
      ]
     },
     "execution_count": 11,
     "metadata": {},
     "output_type": "execute_result"
    }
   ],
   "source": [
    "import unicodedata\n",
    "def uni_code(text):\n",
    "    data=unicodedata.normalize('NFKD',text).encode('ascii','ignore').decode('utf-8','ignore')  # NFKD is type of normalizer \n",
    "    return data \n",
    "uni_code('Cortège Naïve Entrepôt')"
   ]
  },
  {
   "cell_type": "code",
   "execution_count": 18,
   "id": "0d2b217b-7e61-4af3-abbc-ffa9e4b1d0e0",
   "metadata": {},
   "outputs": [
    {
     "name": "stdout",
     "output_type": "stream",
     "text": [
      "['I', 'want', 'to', 'become', ',', 'data', 'scientist']\n"
     ]
    }
   ],
   "source": [
    "import nltk\n",
    "from nltk.tokenize.toktok import ToktokTokenizer\n",
    "text=\"I want to become, data scientist\"\n",
    "tokenizer=ToktokTokenizer()\n",
    "tokens=tokenizer.tokenize(text)\n",
    "print(tokens)\n"
   ]
  },
  {
   "cell_type": "markdown",
   "id": "4cecc88a-e828-44dc-b6f6-398df1a1f827",
   "metadata": {},
   "source": [
    "REMOVING THE STOP WORDS (WHICH ARE NOT IMPORTANT, BY DELETING THE STOP WORDS COLUMNS IN TABULAR DATA CAN BE REDUCED)"
   ]
  },
  {
   "cell_type": "code",
   "execution_count": 38,
   "id": "a6272a55-4922-405d-9a65-0af1e50c0437",
   "metadata": {},
   "outputs": [
    {
     "name": "stdout",
     "output_type": "stream",
     "text": [
      "['i', 'me', 'my', 'myself', 'we', 'our', 'ours', 'ourselves', 'you', \"you're\", \"you've\", \"you'll\", \"you'd\", 'your', 'yours', 'yourself', 'yourselves', 'he', 'him', 'his', 'himself', 'she', \"she's\", 'her', 'hers', 'herself', 'it', \"it's\", 'its', 'itself', 'they', 'them', 'their', 'theirs', 'themselves', 'what', 'which', 'who', 'whom', 'this', 'that', \"that'll\", 'these', 'those', 'am', 'is', 'are', 'was', 'were', 'be', 'been', 'being', 'have', 'has', 'had', 'having', 'do', 'does', 'did', 'doing', 'a', 'an', 'the', 'and', 'but', 'if', 'or', 'because', 'as', 'until', 'while', 'of', 'at', 'by', 'for', 'with', 'about', 'against', 'between', 'into', 'through', 'during', 'before', 'after', 'above', 'below', 'to', 'from', 'up', 'down', 'in', 'out', 'on', 'off', 'over', 'under', 'again', 'further', 'then', 'once', 'here', 'there', 'when', 'where', 'why', 'how', 'all', 'any', 'both', 'each', 'few', 'more', 'most', 'other', 'some', 'such', 'no', 'nor', 'not', 'only', 'own', 'same', 'so', 'than', 'too', 'very', 's', 't', 'can', 'will', 'just', 'don', \"don't\", 'should', \"should've\", 'now', 'd', 'll', 'm', 'o', 're', 've', 'y', 'ain', 'aren', \"aren't\", 'couldn', \"couldn't\", 'didn', \"didn't\", 'doesn', \"doesn't\", 'hadn', \"hadn't\", 'hasn', \"hasn't\", 'haven', \"haven't\", 'isn', \"isn't\", 'ma', 'mightn', \"mightn't\", 'mustn', \"mustn't\", 'needn', \"needn't\", 'shan', \"shan't\", 'shouldn', \"shouldn't\", 'wasn', \"wasn't\", 'weren', \"weren't\", 'won', \"won't\", 'wouldn', \"wouldn't\"]\n"
     ]
    }
   ],
   "source": [
    "import nltk\n",
    "\n",
    "stop_words=nltk.corpus.stopwords.words('english')\n",
    "print(stop_words_list)"
   ]
  },
  {
   "cell_type": "code",
   "execution_count": 39,
   "id": "c8a18815-540c-4e7a-be71-f7b9c666c57f",
   "metadata": {},
   "outputs": [],
   "source": [
    "stop_words.remove('not')"
   ]
  },
  {
   "cell_type": "code",
   "execution_count": 40,
   "id": "81e57587-3c37-4412-b044-f4dc0798cfea",
   "metadata": {},
   "outputs": [],
   "source": [
    "stop_words.remove('no')"
   ]
  },
  {
   "cell_type": "markdown",
   "id": "502a7cd4-6873-45e2-9053-21ef2fad4d09",
   "metadata": {},
   "source": [
    "We are removing no and not from list of stopwords because it will change the meaning of the sentence"
   ]
  },
  {
   "cell_type": "code",
   "execution_count": 43,
   "id": "df1273a0-69d0-4e43-b32b-b90cd9ba6f7f",
   "metadata": {},
   "outputs": [],
   "source": [
    "stop_words.append('pep')  #if by observing the corpus if we feel any of the word can be stop word, we can add the word into the stop word "
   ]
  },
  {
   "cell_type": "markdown",
   "id": "c9f78291-99be-4047-b16b-7c098815daaf",
   "metadata": {},
   "source": [
    "Before removing the stop word from the corpus we should tokenise the text first and later we can remove stop words "
   ]
  },
  {
   "cell_type": "code",
   "execution_count": 50,
   "id": "1361f166-cf95-43e4-8f1c-b3f96224ec31",
   "metadata": {},
   "outputs": [],
   "source": [
    "import nltk\n",
    "from nltk.tokenize.toktok import ToktokTokenizer\n",
    "text1=\"The quick brown fox jumps over the lazy dog. \"\n",
    "tokenizer=ToktokTokenizer()\n",
    "tokens=tokenizer.tokenize(text1)\n"
   ]
  },
  {
   "cell_type": "code",
   "execution_count": 51,
   "id": "b86f21bb-7450-4ece-9dab-38fbbfed585f",
   "metadata": {},
   "outputs": [
    {
     "name": "stdout",
     "output_type": "stream",
     "text": [
      "['The', 'quick', 'brown', 'fox', 'jumps', 'lazy', 'dog.']\n"
     ]
    }
   ],
   "source": [
    "non_stop_words=[token for token in tokens if token not in stop_words]\n",
    "print(non_stop_words)"
   ]
  },
  {
   "cell_type": "markdown",
   "id": "4e60ea7a-31ce-42e7-ad76-1d679b96cb53",
   "metadata": {},
   "source": [
    "REMOVING SPECIAL CHARACTERS FROM THE TEXT ----> can be achived with the help of regular expression"
   ]
  },
  {
   "cell_type": "code",
   "execution_count": 54,
   "id": "08866a2e-d01b-4b0e-ae8b-257843d0a87b",
   "metadata": {},
   "outputs": [
    {
     "data": {
      "text/plain": [
       "'Hello world welcome to programming 1234'"
      ]
     },
     "execution_count": 54,
     "metadata": {},
     "output_type": "execute_result"
    }
   ],
   "source": [
    "import re \n",
    "def remove_special_characters(text,remove_digit=False):\n",
    "    pattern= r'[^a-zA-z0-9\\s]' if not remove_digit else r'[a-zA-z\\s]'\n",
    "    text1=re.sub(pattern,'',text)\n",
    "    return text1\n",
    "\n",
    "remove_special_characters('Hello world! welcome to programming @1234#',remove_digit=False)"
   ]
  },
  {
   "cell_type": "markdown",
   "id": "48001f3e-8e0a-4a19-8b3c-6626f199ea2e",
   "metadata": {},
   "source": [
    "STEMMING - redducing the different form of words into a root  word"
   ]
  },
  {
   "cell_type": "code",
   "execution_count": 63,
   "id": "9f084dac-25d8-4b66-8a2f-89b17364965e",
   "metadata": {},
   "outputs": [
    {
     "data": {
      "text/plain": [
       "'my system keep crash hi crassh yesterday, our crash diali'"
      ]
     },
     "execution_count": 63,
     "metadata": {},
     "output_type": "execute_result"
    }
   ],
   "source": [
    "import nltk\n",
    "def stemming(text):\n",
    "    ps=nltk.porter.PorterStemmer()\n",
    "    text1=' '.join([ps.stem(word) for word in text.split()])\n",
    "    return text1\n",
    "\n",
    "stemming('She enjoys reading books in her cozy corner every evening.')\n",
    "stemming('My system keep crashing his crasshed yesterday, our crashes dialy ')"
   ]
  },
  {
   "cell_type": "markdown",
   "id": "b5f30930-229b-46d3-92c6-9917c6033142",
   "metadata": {},
   "source": [
    "LEMMATISATION - Reducing different forms of word into a single root word, which is part of dictonary and fits into the proper context "
   ]
  },
  {
   "cell_type": "code",
   "execution_count": 73,
   "id": "9906bf94-52a9-4f5e-a168-45c2f231f628",
   "metadata": {},
   "outputs": [
    {
     "data": {
      "text/plain": [
       "'my system keep crash his crasshed yesterday , our crash dialy'"
      ]
     },
     "execution_count": 73,
     "metadata": {},
     "output_type": "execute_result"
    }
   ],
   "source": [
    "import spacy \n",
    "nlp=spacy.load('en_core_web_sm')\n",
    "def lemmatisation(text):\n",
    "    text=nlp(text)\n",
    "    text=' '.join([word.lemma_ if word.lemma != '-PRON-' else word.text for word in text ])\n",
    "    return text\n",
    "\n",
    "lemmatisation('My system keep crashing his crasshed yesterday, our crashes dialy')"
   ]
  },
  {
   "cell_type": "code",
   "execution_count": null,
   "id": "91fd31f2-7fb1-4bb9-ae70-68ee329e10fd",
   "metadata": {},
   "outputs": [],
   "source": []
  }
 ],
 "metadata": {
  "kernelspec": {
   "display_name": "Python 3 (ipykernel)",
   "language": "python",
   "name": "python3"
  },
  "language_info": {
   "codemirror_mode": {
    "name": "ipython",
    "version": 3
   },
   "file_extension": ".py",
   "mimetype": "text/x-python",
   "name": "python",
   "nbconvert_exporter": "python",
   "pygments_lexer": "ipython3",
   "version": "3.11.4"
  }
 },
 "nbformat": 4,
 "nbformat_minor": 5
}
